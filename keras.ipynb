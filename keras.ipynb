{
 "cells": [
  {
   "cell_type": "markdown",
   "id": "ec7c974b",
   "metadata": {},
   "source": [
    "## Regression with Keras"
   ]
  },
  {
   "cell_type": "markdown",
   "id": "fd5f9ca6",
   "metadata": {},
   "source": [
    "Regression is a type of supervised machine learning algorithm used to predict a continuous label. The goal is to produce a model that represents the ‘Strength' to some observed data, according to an evaluation criterion."
   ]
  },
  {
   "cell_type": "markdown",
   "id": "9ed02400",
   "metadata": {},
   "source": [
    "importing libraries "
   ]
  },
  {
   "cell_type": "code",
   "execution_count": 4,
   "id": "1a1335ec",
   "metadata": {},
   "outputs": [],
   "source": [
    "import keras\n",
    "from keras.models import Sequential\n",
    "from keras.layers import Dense"
   ]
  },
  {
   "cell_type": "markdown",
   "id": "634a8571",
   "metadata": {},
   "source": [
    "importing model from keras sequential"
   ]
  },
  {
   "cell_type": "code",
   "execution_count": 5,
   "id": "32454d56",
   "metadata": {},
   "outputs": [],
   "source": [
    "model=Sequential()"
   ]
  },
  {
   "cell_type": "markdown",
   "id": "39b9dec1",
   "metadata": {},
   "source": [
    "import pandas for loading data"
   ]
  },
  {
   "cell_type": "code",
   "execution_count": 6,
   "id": "b8aaffd3",
   "metadata": {},
   "outputs": [],
   "source": [
    "import pandas as pd"
   ]
  },
  {
   "cell_type": "markdown",
   "id": "52ae76f1",
   "metadata": {},
   "source": [
    "reading the data"
   ]
  },
  {
   "cell_type": "code",
   "execution_count": 7,
   "id": "446fc2fb",
   "metadata": {},
   "outputs": [],
   "source": [
    "data=pd.read_csv(\"concrete_data.csv\")"
   ]
  },
  {
   "cell_type": "code",
   "execution_count": 8,
   "id": "29a1b8b8",
   "metadata": {},
   "outputs": [
    {
     "data": {
      "text/html": [
       "<div>\n",
       "<style scoped>\n",
       "    .dataframe tbody tr th:only-of-type {\n",
       "        vertical-align: middle;\n",
       "    }\n",
       "\n",
       "    .dataframe tbody tr th {\n",
       "        vertical-align: top;\n",
       "    }\n",
       "\n",
       "    .dataframe thead th {\n",
       "        text-align: right;\n",
       "    }\n",
       "</style>\n",
       "<table border=\"1\" class=\"dataframe\">\n",
       "  <thead>\n",
       "    <tr style=\"text-align: right;\">\n",
       "      <th></th>\n",
       "      <th>Cement</th>\n",
       "      <th>Blast Furnace Slag</th>\n",
       "      <th>Fly Ash</th>\n",
       "      <th>Water</th>\n",
       "      <th>Superplasticizer</th>\n",
       "      <th>Coarse Aggregate</th>\n",
       "      <th>Fine Aggregate</th>\n",
       "      <th>Age</th>\n",
       "      <th>Strength</th>\n",
       "    </tr>\n",
       "  </thead>\n",
       "  <tbody>\n",
       "    <tr>\n",
       "      <th>0</th>\n",
       "      <td>540.0</td>\n",
       "      <td>0.0</td>\n",
       "      <td>0.0</td>\n",
       "      <td>162.0</td>\n",
       "      <td>2.5</td>\n",
       "      <td>1040.0</td>\n",
       "      <td>676.0</td>\n",
       "      <td>28</td>\n",
       "      <td>79.99</td>\n",
       "    </tr>\n",
       "    <tr>\n",
       "      <th>1</th>\n",
       "      <td>540.0</td>\n",
       "      <td>0.0</td>\n",
       "      <td>0.0</td>\n",
       "      <td>162.0</td>\n",
       "      <td>2.5</td>\n",
       "      <td>1055.0</td>\n",
       "      <td>676.0</td>\n",
       "      <td>28</td>\n",
       "      <td>61.89</td>\n",
       "    </tr>\n",
       "    <tr>\n",
       "      <th>2</th>\n",
       "      <td>332.5</td>\n",
       "      <td>142.5</td>\n",
       "      <td>0.0</td>\n",
       "      <td>228.0</td>\n",
       "      <td>0.0</td>\n",
       "      <td>932.0</td>\n",
       "      <td>594.0</td>\n",
       "      <td>270</td>\n",
       "      <td>40.27</td>\n",
       "    </tr>\n",
       "    <tr>\n",
       "      <th>3</th>\n",
       "      <td>332.5</td>\n",
       "      <td>142.5</td>\n",
       "      <td>0.0</td>\n",
       "      <td>228.0</td>\n",
       "      <td>0.0</td>\n",
       "      <td>932.0</td>\n",
       "      <td>594.0</td>\n",
       "      <td>365</td>\n",
       "      <td>41.05</td>\n",
       "    </tr>\n",
       "    <tr>\n",
       "      <th>4</th>\n",
       "      <td>198.6</td>\n",
       "      <td>132.4</td>\n",
       "      <td>0.0</td>\n",
       "      <td>192.0</td>\n",
       "      <td>0.0</td>\n",
       "      <td>978.4</td>\n",
       "      <td>825.5</td>\n",
       "      <td>360</td>\n",
       "      <td>44.30</td>\n",
       "    </tr>\n",
       "  </tbody>\n",
       "</table>\n",
       "</div>"
      ],
      "text/plain": [
       "   Cement  Blast Furnace Slag  Fly Ash  Water  Superplasticizer  \\\n",
       "0   540.0                 0.0      0.0  162.0               2.5   \n",
       "1   540.0                 0.0      0.0  162.0               2.5   \n",
       "2   332.5               142.5      0.0  228.0               0.0   \n",
       "3   332.5               142.5      0.0  228.0               0.0   \n",
       "4   198.6               132.4      0.0  192.0               0.0   \n",
       "\n",
       "   Coarse Aggregate  Fine Aggregate  Age  Strength  \n",
       "0            1040.0           676.0   28     79.99  \n",
       "1            1055.0           676.0   28     61.89  \n",
       "2             932.0           594.0  270     40.27  \n",
       "3             932.0           594.0  365     41.05  \n",
       "4             978.4           825.5  360     44.30  "
      ]
     },
     "execution_count": 8,
     "metadata": {},
     "output_type": "execute_result"
    }
   ],
   "source": [
    "data.head()"
   ]
  },
  {
   "cell_type": "code",
   "execution_count": 9,
   "id": "0cabdc48",
   "metadata": {},
   "outputs": [
    {
     "data": {
      "text/html": [
       "<div>\n",
       "<style scoped>\n",
       "    .dataframe tbody tr th:only-of-type {\n",
       "        vertical-align: middle;\n",
       "    }\n",
       "\n",
       "    .dataframe tbody tr th {\n",
       "        vertical-align: top;\n",
       "    }\n",
       "\n",
       "    .dataframe thead th {\n",
       "        text-align: right;\n",
       "    }\n",
       "</style>\n",
       "<table border=\"1\" class=\"dataframe\">\n",
       "  <thead>\n",
       "    <tr style=\"text-align: right;\">\n",
       "      <th></th>\n",
       "      <th>Cement</th>\n",
       "      <th>Blast Furnace Slag</th>\n",
       "      <th>Fly Ash</th>\n",
       "      <th>Water</th>\n",
       "      <th>Superplasticizer</th>\n",
       "      <th>Coarse Aggregate</th>\n",
       "      <th>Fine Aggregate</th>\n",
       "      <th>Age</th>\n",
       "      <th>Strength</th>\n",
       "    </tr>\n",
       "  </thead>\n",
       "  <tbody>\n",
       "    <tr>\n",
       "      <th>count</th>\n",
       "      <td>1030.000000</td>\n",
       "      <td>1030.000000</td>\n",
       "      <td>1030.000000</td>\n",
       "      <td>1030.000000</td>\n",
       "      <td>1030.000000</td>\n",
       "      <td>1030.000000</td>\n",
       "      <td>1030.000000</td>\n",
       "      <td>1030.000000</td>\n",
       "      <td>1030.000000</td>\n",
       "    </tr>\n",
       "    <tr>\n",
       "      <th>mean</th>\n",
       "      <td>0.520681</td>\n",
       "      <td>0.205609</td>\n",
       "      <td>0.270806</td>\n",
       "      <td>0.735090</td>\n",
       "      <td>0.192691</td>\n",
       "      <td>0.849711</td>\n",
       "      <td>0.779348</td>\n",
       "      <td>0.125102</td>\n",
       "      <td>35.817961</td>\n",
       "    </tr>\n",
       "    <tr>\n",
       "      <th>std</th>\n",
       "      <td>0.193530</td>\n",
       "      <td>0.240065</td>\n",
       "      <td>0.319825</td>\n",
       "      <td>0.086454</td>\n",
       "      <td>0.185523</td>\n",
       "      <td>0.067907</td>\n",
       "      <td>0.080774</td>\n",
       "      <td>0.173068</td>\n",
       "      <td>16.705742</td>\n",
       "    </tr>\n",
       "    <tr>\n",
       "      <th>min</th>\n",
       "      <td>0.188889</td>\n",
       "      <td>0.000000</td>\n",
       "      <td>0.000000</td>\n",
       "      <td>0.493117</td>\n",
       "      <td>0.000000</td>\n",
       "      <td>0.699563</td>\n",
       "      <td>0.598428</td>\n",
       "      <td>0.002740</td>\n",
       "      <td>2.330000</td>\n",
       "    </tr>\n",
       "    <tr>\n",
       "      <th>25%</th>\n",
       "      <td>0.356250</td>\n",
       "      <td>0.000000</td>\n",
       "      <td>0.000000</td>\n",
       "      <td>0.667611</td>\n",
       "      <td>0.000000</td>\n",
       "      <td>0.813974</td>\n",
       "      <td>0.736399</td>\n",
       "      <td>0.019178</td>\n",
       "      <td>23.710000</td>\n",
       "    </tr>\n",
       "    <tr>\n",
       "      <th>50%</th>\n",
       "      <td>0.505370</td>\n",
       "      <td>0.061213</td>\n",
       "      <td>0.000000</td>\n",
       "      <td>0.748988</td>\n",
       "      <td>0.198758</td>\n",
       "      <td>0.845415</td>\n",
       "      <td>0.785311</td>\n",
       "      <td>0.076712</td>\n",
       "      <td>34.445000</td>\n",
       "    </tr>\n",
       "    <tr>\n",
       "      <th>75%</th>\n",
       "      <td>0.648148</td>\n",
       "      <td>0.397746</td>\n",
       "      <td>0.591204</td>\n",
       "      <td>0.777328</td>\n",
       "      <td>0.316770</td>\n",
       "      <td>0.899039</td>\n",
       "      <td>0.830143</td>\n",
       "      <td>0.153425</td>\n",
       "      <td>46.135000</td>\n",
       "    </tr>\n",
       "    <tr>\n",
       "      <th>max</th>\n",
       "      <td>1.000000</td>\n",
       "      <td>1.000000</td>\n",
       "      <td>1.000000</td>\n",
       "      <td>1.000000</td>\n",
       "      <td>1.000000</td>\n",
       "      <td>1.000000</td>\n",
       "      <td>1.000000</td>\n",
       "      <td>1.000000</td>\n",
       "      <td>82.600000</td>\n",
       "    </tr>\n",
       "  </tbody>\n",
       "</table>\n",
       "</div>"
      ],
      "text/plain": [
       "            Cement  Blast Furnace Slag      Fly Ash        Water  \\\n",
       "count  1030.000000         1030.000000  1030.000000  1030.000000   \n",
       "mean      0.520681            0.205609     0.270806     0.735090   \n",
       "std       0.193530            0.240065     0.319825     0.086454   \n",
       "min       0.188889            0.000000     0.000000     0.493117   \n",
       "25%       0.356250            0.000000     0.000000     0.667611   \n",
       "50%       0.505370            0.061213     0.000000     0.748988   \n",
       "75%       0.648148            0.397746     0.591204     0.777328   \n",
       "max       1.000000            1.000000     1.000000     1.000000   \n",
       "\n",
       "       Superplasticizer  Coarse Aggregate  Fine Aggregate          Age  \\\n",
       "count       1030.000000       1030.000000     1030.000000  1030.000000   \n",
       "mean           0.192691          0.849711        0.779348     0.125102   \n",
       "std            0.185523          0.067907        0.080774     0.173068   \n",
       "min            0.000000          0.699563        0.598428     0.002740   \n",
       "25%            0.000000          0.813974        0.736399     0.019178   \n",
       "50%            0.198758          0.845415        0.785311     0.076712   \n",
       "75%            0.316770          0.899039        0.830143     0.153425   \n",
       "max            1.000000          1.000000        1.000000     1.000000   \n",
       "\n",
       "          Strength  \n",
       "count  1030.000000  \n",
       "mean     35.817961  \n",
       "std      16.705742  \n",
       "min       2.330000  \n",
       "25%      23.710000  \n",
       "50%      34.445000  \n",
       "75%      46.135000  \n",
       "max      82.600000  "
      ]
     },
     "execution_count": 9,
     "metadata": {},
     "output_type": "execute_result"
    }
   ],
   "source": [
    "target_column = ['Strength'] \n",
    "predictors = list(set(list(data.columns))-set(target_column))\n",
    "data[predictors] = data[predictors]/data[predictors].max()\n",
    "data.describe()"
   ]
  },
  {
   "cell_type": "code",
   "execution_count": 10,
   "id": "ffd4ca85",
   "metadata": {},
   "outputs": [
    {
     "name": "stdout",
     "output_type": "stream",
     "text": [
      "(721, 8)\n",
      "(309, 8)\n"
     ]
    }
   ],
   "source": [
    "from sklearn.model_selection import train_test_split\n",
    "X = data[predictors].values\n",
    "y = data[target_column].values\n",
    "\n",
    "X_train, X_test, y_train, y_test = train_test_split(X, y, test_size=0.30, random_state=40)\n",
    "print(X_train.shape); \n",
    "print(X_test.shape)"
   ]
  },
  {
   "cell_type": "code",
   "execution_count": 12,
   "id": "dbc624d0",
   "metadata": {},
   "outputs": [],
   "source": [
    "model.add(Dense(500, input_dim=8, activation= \"relu\"))\n",
    "model.add(Dense(100, activation= \"relu\"))\n",
    "model.add(Dense(50, activation= \"relu\"))\n",
    "model.add(Dense(1))"
   ]
  },
  {
   "cell_type": "code",
   "execution_count": 13,
   "id": "8ab27d7b",
   "metadata": {},
   "outputs": [],
   "source": [
    "model.compile(loss= \"mean_squared_error\" , optimizer=\"adam\", metrics=[\"mean_squared_error\"])\n"
   ]
  },
  {
   "cell_type": "code",
   "execution_count": 14,
   "id": "43324fb9",
   "metadata": {},
   "outputs": [
    {
     "name": "stdout",
     "output_type": "stream",
     "text": [
      "Epoch 1/20\n",
      "23/23 [==============================] - 2s 6ms/step - loss: 1417.5845 - mean_squared_error: 1417.5845\n",
      "Epoch 2/20\n",
      "23/23 [==============================] - 0s 5ms/step - loss: 599.2491 - mean_squared_error: 599.2491\n",
      "Epoch 3/20\n",
      "23/23 [==============================] - 0s 5ms/step - loss: 265.8033 - mean_squared_error: 265.8033\n",
      "Epoch 4/20\n",
      "23/23 [==============================] - 0s 5ms/step - loss: 219.9748 - mean_squared_error: 219.9748\n",
      "Epoch 5/20\n",
      "23/23 [==============================] - 0s 5ms/step - loss: 203.1978 - mean_squared_error: 203.1978\n",
      "Epoch 6/20\n",
      "23/23 [==============================] - 0s 5ms/step - loss: 184.2809 - mean_squared_error: 184.2809\n",
      "Epoch 7/20\n",
      "23/23 [==============================] - 0s 5ms/step - loss: 167.0523 - mean_squared_error: 167.0523\n",
      "Epoch 8/20\n",
      "23/23 [==============================] - 0s 5ms/step - loss: 151.7108 - mean_squared_error: 151.7108\n",
      "Epoch 9/20\n",
      "23/23 [==============================] - 0s 5ms/step - loss: 139.8390 - mean_squared_error: 139.8390\n",
      "Epoch 10/20\n",
      "23/23 [==============================] - 0s 5ms/step - loss: 131.9453 - mean_squared_error: 131.9453\n",
      "Epoch 11/20\n",
      "23/23 [==============================] - 0s 5ms/step - loss: 127.3335 - mean_squared_error: 127.3335\n",
      "Epoch 12/20\n",
      "23/23 [==============================] - 0s 5ms/step - loss: 125.3999 - mean_squared_error: 125.3999\n",
      "Epoch 13/20\n",
      "23/23 [==============================] - 0s 5ms/step - loss: 121.5724 - mean_squared_error: 121.5724\n",
      "Epoch 14/20\n",
      "23/23 [==============================] - 0s 4ms/step - loss: 120.9132 - mean_squared_error: 120.9132\n",
      "Epoch 15/20\n",
      "23/23 [==============================] - 0s 5ms/step - loss: 116.9368 - mean_squared_error: 116.9368\n",
      "Epoch 16/20\n",
      "23/23 [==============================] - 0s 5ms/step - loss: 116.1326 - mean_squared_error: 116.1326\n",
      "Epoch 17/20\n",
      "23/23 [==============================] - 0s 5ms/step - loss: 116.0513 - mean_squared_error: 116.0513\n",
      "Epoch 18/20\n",
      "23/23 [==============================] - 0s 5ms/step - loss: 113.3102 - mean_squared_error: 113.3102\n",
      "Epoch 19/20\n",
      "23/23 [==============================] - 0s 5ms/step - loss: 110.6741 - mean_squared_error: 110.6741\n",
      "Epoch 20/20\n",
      "23/23 [==============================] - 0s 5ms/step - loss: 110.1587 - mean_squared_error: 110.1587\n"
     ]
    },
    {
     "data": {
      "text/plain": [
       "<keras.src.callbacks.History at 0x1f3d783d010>"
      ]
     },
     "execution_count": 14,
     "metadata": {},
     "output_type": "execute_result"
    }
   ],
   "source": [
    "model.fit(X_train, y_train, epochs=20)"
   ]
  },
  {
   "cell_type": "code",
   "execution_count": 17,
   "id": "05dcb5ac",
   "metadata": {},
   "outputs": [
    {
     "name": "stdout",
     "output_type": "stream",
     "text": [
      "23/23 [==============================] - 0s 3ms/step\n",
      "10.409702231466895\n",
      "10/10 [==============================] - 0s 4ms/step\n",
      "11.177184380700046\n"
     ]
    }
   ],
   "source": [
    "import numpy as np \n",
    "from sklearn.metrics import mean_squared_error\n",
    "from math import sqrt\n",
    "pred_train= model.predict(X_train)\n",
    "print(np.sqrt(mean_squared_error(y_train,pred_train)))\n",
    "\n",
    "pred= model.predict(X_test)\n",
    "print(np.sqrt(mean_squared_error(y_test,pred))) "
   ]
  },
  {
   "cell_type": "code",
   "execution_count": null,
   "id": "fa554069",
   "metadata": {},
   "outputs": [],
   "source": []
  }
 ],
 "metadata": {
  "kernelspec": {
   "display_name": "Python 3 (ipykernel)",
   "language": "python",
   "name": "python3"
  },
  "language_info": {
   "codemirror_mode": {
    "name": "ipython",
    "version": 3
   },
   "file_extension": ".py",
   "mimetype": "text/x-python",
   "name": "python",
   "nbconvert_exporter": "python",
   "pygments_lexer": "ipython3",
   "version": "3.11.3"
  }
 },
 "nbformat": 4,
 "nbformat_minor": 5
}
